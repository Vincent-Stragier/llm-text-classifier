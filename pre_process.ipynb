{
 "cells": [
  {
   "cell_type": "code",
   "execution_count": 30,
   "metadata": {},
   "outputs": [],
   "source": [
    "import json\n",
    "from typing import Iterable\n",
    "from copy import deepcopy\n",
    "\n",
    "import numpy as np\n",
    "\n",
    "# from pprint import pprint\n",
    "\n",
    "\n",
    "def load_dataset(path) -> list:\n",
    "    \"\"\"Load a dataset.\n",
    "\n",
    "    Args:\n",
    "        path (str | Path): the path for the dataset1\n",
    "\n",
    "    Returns:\n",
    "        list: the list of the dataset elements\n",
    "    \"\"\"\n",
    "    with open(path, mode=\"rb\") as json_file:\n",
    "        return json.load(json_file)\n",
    "\n",
    "\n",
    "def split_dataset(\n",
    "    dataset: Iterable,\n",
    "    split: Iterable = (0.33, 0.33, 0.33),\n",
    "    random_state: int = 53,\n",
    "):\n",
    "    \"\"\"Split a dataset into three parts.\n",
    "\n",
    "    Args:\n",
    "        dataset (Iterable): the dataset to split\n",
    "        split (Iterable): the split ratios\n",
    "        random_state (int): the random state\n",
    "\n",
    "    Returns:\n",
    "        tuple: the three splits\n",
    "    \"\"\"\n",
    "    np.random.seed(random_state)\n",
    "    np.random.shuffle(dataset)  # what about equipotent classes?\n",
    "\n",
    "    # normalize the split\n",
    "    normalized_split = np.array(split) / np.sum(split)\n",
    "\n",
    "    splitted_dataset = deepcopy(dataset)\n",
    "    for index, tool in enumerate(dataset):\n",
    "        # Compute the split\n",
    "        subdataset_length = len(tool[\"dataset\"])\n",
    "        adapted_split = np.array(\n",
    "            normalized_split * subdataset_length, dtype=int\n",
    "        ).cumsum()\n",
    "\n",
    "        # Shuffle the dataset\n",
    "        subdataset = deepcopy(tool[\"dataset\"])\n",
    "        np.random.shuffle(subdataset)\n",
    "\n",
    "        # Split the dataset\n",
    "        train, test, validation = np.split(subdataset, adapted_split)[:3]\n",
    "        splitted_dataset[index][\"dataset\"] = {\n",
    "            \"train\": train,\n",
    "            \"test\": test,\n",
    "            \"validation\": validation,\n",
    "        }\n",
    "\n",
    "    return splitted_dataset\n",
    "\n",
    "\n",
    "dataset = load_dataset(\"dataset_a.json\")\n",
    "split = split_dataset(dataset)\n",
    "# return np.split(dataset, [int(split[0] * len(dataset)), int((split[0] + split[1]) * len(dataset))])"
   ]
  },
  {
   "cell_type": "code",
   "execution_count": 37,
   "metadata": {},
   "outputs": [
    {
     "data": {
      "text/plain": [
       "array([{'user_request': 'Is the toilet seat down?', 'command': \"detect_object('toilet seat')\", 'rouge_score': 0.33333332847222225},\n",
       "       {'user_request': 'Is the dog in the yard?', 'command': \"detect_object('dog')\", 'rouge_score': 0.499999995138889},\n",
       "       {'user_request': 'Is the mailbox empty?', 'command': \"detect_object('mailbox')\", 'rouge_score': 0.36363635900826446},\n",
       "       {'user_request': 'Is the trash can full?', 'command': \"detect_object('trash can')\", 'rouge_score': 0.33333332847222225},\n",
       "       {'user_request': 'Is the garage door closed?', 'command': \"detect_object('garage door')\", 'rouge_score': 0.33333332847222225}],\n",
       "      dtype=object)"
      ]
     },
     "execution_count": 37,
     "metadata": {},
     "output_type": "execute_result"
    }
   ],
   "source": [
    "split[0][\"dataset\"][\"test\"][:5]"
   ]
  },
  {
   "cell_type": "code",
   "execution_count": 22,
   "metadata": {},
   "outputs": [
    {
     "name": "stdout",
     "output_type": "stream",
     "text": [
      "[0. 1. 2. 3. 4. 5. 6. 7.]\n"
     ]
    },
    {
     "data": {
      "text/plain": [
       "[array([0., 1., 2.]),\n",
       " array([3., 4.]),\n",
       " array([5.]),\n",
       " array([6., 7.]),\n",
       " array([], dtype=float64)]"
      ]
     },
     "execution_count": 22,
     "metadata": {},
     "output_type": "execute_result"
    }
   ],
   "source": [
    "x = np.arange(8.0)\n",
    "print(x)\n",
    "np.split(x, [3, 5, 6, 10])"
   ]
  }
 ],
 "metadata": {
  "kernelspec": {
   "display_name": "Python 3",
   "language": "python",
   "name": "python3"
  },
  "language_info": {
   "codemirror_mode": {
    "name": "ipython",
    "version": 3
   },
   "file_extension": ".py",
   "mimetype": "text/x-python",
   "name": "python",
   "nbconvert_exporter": "python",
   "pygments_lexer": "ipython3",
   "version": "3.10.11"
  }
 },
 "nbformat": 4,
 "nbformat_minor": 2
}
